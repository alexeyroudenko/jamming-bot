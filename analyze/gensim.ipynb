{
 "cells": [
  {
   "cell_type": "code",
   "execution_count": 2,
   "metadata": {},
   "outputs": [],
   "source": [
    "text = \"Jamming bot is a fantasy about a post-apocalyptic future, when the core functions of the internet and assistant bots are defeated and only one self-replicating bot remains, aimlessly browsing the internet. It is a bot that has no goal, only a path. Currently, spiders, crawlers and bots serve a service purpose. They act as search engines, collect information, automate the infrastructure of the internet. Jamming bot is a fantasy about a post-apocalyptic future, when the core functions of the internet and assistant bots are defeated and only one self-replicating bot remains, aimlessly browsing the internet, perhaps studying the general mood of humanity in the scraps of meaning on the pages of the internet. It is a bot that has no goal, only a path. Jamming Bot is a fascinating and slightly melancholic concept, where the last remaining bot represents the legacy of the digital age. Jamming Bot may symbolize the loneliness and permanence of technology that has transcended control and self-improvement. It is like an observer, dwelling among the fragments of information, trying to catch the residual traces of humanity in the scraps of text, in the ruined pages, perhaps even interpreting them as traces of a long-forgotten society. Its movement across the Internet can be seen as a reflection of human aspirations, searches, and experiences, as it accidentally intersects with different fragments of meaning that were once assembled into a single network.\""
   ]
  },
  {
   "cell_type": "code",
   "execution_count": 3,
   "metadata": {},
   "outputs": [
    {
     "name": "stdout",
     "output_type": "stream",
     "text": [
      "[['Jamming', 'bot', 'is', 'a', 'fantasy', 'about', 'a', 'post-apocalyptic', 'future,', 'when', 'the', 'core', 'functions', 'of', 'the', 'internet', 'and', 'assistant', 'bots', 'are', 'defeated', 'and', 'only', 'one', 'self-replicating', 'bot', 'remains,', 'aimlessly', 'browsing', 'the', 'internet.'], ['It', 'is', 'a', 'bot', 'that', 'has', 'no', 'goal,', 'only', 'a', 'path.'], ['Currently,', 'spiders,', 'crawlers', 'and', 'bots', 'serve', 'a', 'service', 'purpose.'], ['They', 'act', 'as', 'search', 'engines,', 'collect', 'information,', 'automate', 'the', 'infrastructure', 'of', 'the', 'internet.'], ['Jamming', 'bot', 'is', 'a', 'fantasy', 'about', 'a', 'post-apocalyptic', 'future,', 'when', 'the', 'core', 'functions', 'of', 'the', 'internet', 'and', 'assistant', 'bots', 'are', 'defeated', 'and', 'only', 'one', 'self-replicating', 'bot', 'remains,', 'aimlessly', 'browsing', 'the', 'internet,', 'perhaps', 'studying', 'the', 'general', 'mood', 'of', 'humanity', 'in', 'the', 'scraps', 'of', 'meaning', 'on', 'the', 'pages', 'of', 'the', 'internet.'], ['It', 'is', 'a', 'bot', 'that', 'has', 'no', 'goal,', 'only', 'a', 'path.'], ['Jamming', 'Bot', 'is', 'a', 'fascinating', 'and', 'slightly', 'melancholic', 'concept,', 'where', 'the', 'last', 'remaining', 'bot', 'represents', 'the', 'legacy', 'of', 'the', 'digital', 'age.'], ['Jamming', 'Bot', 'may', 'symbolize', 'the', 'loneliness', 'and', 'permanence', 'of', 'technology', 'that', 'has', 'transcended', 'control', 'and', 'self-improvement.'], ['It', 'is', 'like', 'an', 'observer,', 'dwelling', 'among', 'the', 'fragments', 'of', 'information,', 'trying', 'to', 'catch', 'the', 'residual', 'traces', 'of', 'humanity', 'in', 'the', 'scraps', 'of', 'text,', 'in', 'the', 'ruined', 'pages,', 'perhaps', 'even', 'interpreting', 'them', 'as', 'traces', 'of', 'a', 'long-forgotten', 'society.'], ['Its', 'movement', 'across', 'the', 'Internet', 'can', 'be', 'seen', 'as', 'a', 'reflection', 'of', 'human', 'aspirations,', 'searches,', 'and', 'experiences,', 'as', 'it', 'accidentally', 'intersects', 'with', 'different', 'fragments', 'of', 'meaning', 'that', 'were', 'once', 'assembled', 'into', 'a', 'single', 'network.']]\n"
     ]
    }
   ],
   "source": [
    "# text_file = \"txt/1.txt\"\n",
    "# with open(text_file, 'rb') as file:\n",
    "#     byte = file.read()\n",
    "#     text = byte.decode('utf-8', 'ignore').replace(\"\\n\", \"\").replace(\"\\r\", \"\")\n",
    "    \n",
    "import re    \n",
    "sentences = re.split(r'(?<=[.!?]) +', text)\n",
    "sents = []\n",
    "for sent in sentences:\n",
    "    words = sent.split()\n",
    "    sents.append(words)\n",
    "            \n",
    "print(sents)\n",
    "        "
   ]
  },
  {
   "cell_type": "code",
   "execution_count": 9,
   "metadata": {},
   "outputs": [
    {
     "name": "stdout",
     "output_type": "stream",
     "text": [
      "(0, '0.068*\"of\" + 0.068*\"the\" + 0.035*\"in\" + 0.035*\"traces\" + 0.019*\"as\" + 0.019*\"a\" + 0.019*\"fragments\"')\n",
      "(1, '0.095*\"a\" + 0.040*\"has\" + 0.040*\"that\" + 0.040*\"is\" + 0.040*\"only\" + 0.040*\"It\" + 0.040*\"path.\"')\n",
      "(2, '0.105*\"the\" + 0.053*\"of\" + 0.047*\"and\" + 0.034*\"bot\" + 0.034*\"a\" + 0.027*\"Jamming\" + 0.021*\"internet.\"')\n",
      "(3, '0.008*\"a\" + 0.008*\"as\" + 0.008*\"of\" + 0.008*\"different\" + 0.008*\"intersects\" + 0.008*\"that\" + 0.008*\"searches,\"')\n",
      "(4, '0.038*\"as\" + 0.038*\"a\" + 0.038*\"of\" + 0.021*\"that\" + 0.021*\"and\" + 0.021*\"meaning\" + 0.021*\"once\"')\n"
     ]
    }
   ],
   "source": [
    "from gensim.corpora.dictionary import Dictionary\n",
    "from gensim.models import LdaModel\n",
    "\n",
    "# texts = [\n",
    "#     [\"пример\", \"текста\", \"для\", \"обучения\", \"модели\"],\n",
    "#     [\"модели\", \"работают\", \"с\", \"текстами\", \"на\", \"языках\"],\n",
    "#     [\"lda\", \"строит\", \"темы\", \"на\", \"основе\", \"текста\"]\n",
    "# ]\n",
    "texts = sents\n",
    "# Создание словаря и корпуса\n",
    "dictionary = Dictionary(texts)\n",
    "corpus = [dictionary.doc2bow(text) for text in texts]\n",
    "\n",
    "# Создание и обучение модели LDA\n",
    "lda_model = LdaModel(corpus=corpus, id2word=dictionary, num_topics=5, passes=15)\n",
    "\n",
    "# Вывод тем\n",
    "topics = lda_model.print_topics(num_words=7)\n",
    "for topic in topics:\n",
    "    print(topic)\n"
   ]
  },
  {
   "cell_type": "code",
   "execution_count": 1,
   "metadata": {},
   "outputs": [
    {
     "name": "stdout",
     "output_type": "stream",
     "text": [
      "Эмбеддинг для 'jammingbot': [ 3.14384350e-04 -5.55101549e-04 -1.46238992e-04 -9.79694669e-05\n",
      " -6.46486646e-04  4.41743468e-04 -9.42527040e-05  2.65375857e-04\n",
      " -2.10784565e-04  3.75456034e-06  4.05715458e-04 -3.65126762e-05\n",
      " -8.13494917e-05 -1.59025367e-05  3.34162120e-04  3.97624972e-04\n",
      " -1.96472232e-04  1.31785069e-04  7.26863218e-05  2.18483615e-06\n",
      "  4.04856110e-05 -9.62478342e-04  3.05933994e-04 -6.30852228e-05\n",
      "  8.42203226e-05  6.60132355e-05  1.69353618e-04 -1.37861047e-04\n",
      "  1.16054180e-04  3.51079179e-05  2.95635720e-04  2.26257951e-04\n",
      " -6.35497447e-04 -3.68834852e-04  1.09647946e-04  4.53648187e-04\n",
      " -2.56602565e-04 -2.50492740e-04 -3.43307358e-04 -3.34997836e-04\n",
      "  3.47490350e-05  4.25369333e-04  4.47593105e-04 -5.44268347e-04\n",
      "  5.26646385e-04 -8.42195950e-05 -1.78128121e-05 -2.67417316e-04\n",
      "  2.56143947e-04 -5.57512452e-04  2.25525582e-04  5.96229977e-04\n",
      " -1.66568279e-04  3.27080576e-04  9.78874050e-06  1.56508439e-04\n",
      " -2.53842718e-05  9.57888915e-05 -5.58291431e-05  1.35331255e-04\n",
      "  1.03172046e-04  4.81364259e-05  1.73658846e-04 -1.53304805e-04\n",
      " -2.12053492e-04 -7.22449522e-06 -3.75164091e-05 -3.72437906e-04\n",
      "  1.12982212e-04 -7.48994644e-05  2.52372905e-04 -6.00369181e-04\n",
      " -2.46079930e-04 -7.27822335e-05 -2.36006555e-04  1.29400825e-04\n",
      " -1.71727239e-04  5.36456413e-04  3.50524671e-04 -3.42238229e-04\n",
      "  2.77646235e-04 -5.18867571e-04  8.72315359e-05  8.04673531e-04\n",
      "  1.44529578e-04  5.82833236e-05  2.79149739e-04  4.59408970e-04\n",
      "  2.28005592e-04  2.87060073e-04 -6.73649542e-04 -2.61595007e-04\n",
      " -8.10886777e-05  1.03716440e-04  4.64342214e-04  1.62234137e-04\n",
      "  1.93224289e-04  6.00357125e-05  9.78055687e-05  1.99148235e-05\n",
      "  5.74762991e-04 -3.08135059e-04 -3.70209862e-04  4.45443671e-04\n",
      " -1.91464336e-04  1.41030847e-04  1.82871721e-04  8.38723790e-05\n",
      " -7.01000463e-05  1.36179427e-04 -1.23866703e-04 -4.31955086e-05\n",
      " -3.55812866e-04  2.33571598e-04 -3.36704397e-04 -1.04765073e-04\n",
      " -1.00419595e-04  2.57227832e-04  3.06236943e-05 -1.10100860e-04\n",
      "  3.39410064e-04 -3.59927304e-04 -3.84079503e-05  5.96473867e-04\n",
      "  1.16302617e-04  4.51304550e-05  3.49694048e-04 -2.88031413e-04\n",
      " -3.74528783e-04 -4.73496155e-04 -3.52299365e-04  2.81181710e-04\n",
      "  1.76823562e-06 -1.08272128e-04 -1.57159753e-04 -6.64420135e-04\n",
      " -2.77862302e-04 -4.37512121e-04  2.09653037e-04 -1.96739566e-05\n",
      "  1.26576979e-05 -1.62657569e-04 -3.88015236e-04  2.33973169e-05\n",
      " -2.17528373e-04 -9.98262898e-04 -2.55578954e-04  2.05544362e-04\n",
      "  4.03959275e-04 -6.39298873e-04  1.19819524e-05  4.26307924e-05\n",
      " -8.53548481e-05 -3.95505740e-05  1.13970949e-04  1.01661804e-04\n",
      " -4.82638774e-04  3.69258960e-05  3.00609041e-04 -3.10217292e-04\n",
      "  7.89234240e-04  1.35986347e-05 -7.69215985e-05  3.12323915e-04\n",
      " -2.21989496e-04  5.25512500e-04  2.31216283e-04 -1.66522717e-04\n",
      "  4.97736852e-04 -8.94114564e-05  3.98002652e-04 -6.77559059e-04\n",
      "  1.68674960e-04  5.41793706e-04  5.31597543e-05  4.06475010e-05\n",
      " -5.76557417e-04  3.48432863e-04 -1.10312030e-05  4.40742966e-04\n",
      " -2.73523125e-04 -4.38970805e-04  4.64638550e-04 -2.24633521e-04\n",
      "  4.38860705e-04  3.55257362e-04 -1.05070365e-04 -1.43088226e-04\n",
      " -7.61095376e-04  1.32744579e-04 -2.19012261e-04 -4.04989725e-04\n",
      " -1.29826352e-04 -5.61868510e-05 -2.50655372e-04 -1.73832668e-04\n",
      " -5.81903732e-04 -2.66745250e-04 -2.24777730e-04  4.68772283e-04\n",
      "  3.25782050e-04  2.89943244e-04  4.43762510e-05 -9.99268013e-05\n",
      " -5.36466405e-06 -4.66498401e-04  1.00053760e-04  2.81017739e-04\n",
      "  2.31569575e-05  1.12562935e-04  1.06083331e-04  1.26354746e-04\n",
      " -2.48697674e-04  2.75543745e-04  1.84234537e-04 -5.18417917e-04\n",
      " -2.15924360e-04 -3.76184005e-04  1.62770986e-04  3.02774424e-04\n",
      " -3.12572753e-04  4.80864837e-04  6.51610681e-05  3.82133207e-04\n",
      "  8.99775041e-05  4.50090534e-04 -3.30521252e-05  8.19617781e-05\n",
      " -3.78132652e-04  3.02700209e-04  2.53720005e-04 -3.95111158e-04\n",
      "  3.62359948e-04  8.64940812e-05 -7.23046178e-05  2.41378613e-04\n",
      "  6.09904760e-04 -1.54076351e-05  7.57400558e-05 -8.20291461e-05\n",
      "  3.88687273e-04 -2.38844194e-04  1.48287902e-04  1.73007094e-04\n",
      "  7.82431598e-05  2.79067928e-04 -9.10166273e-06  3.34785669e-04\n",
      " -6.26713290e-06 -3.42785730e-04 -4.45436803e-04  8.04682932e-05\n",
      "  4.95585628e-05  2.31110840e-04 -3.30395473e-04 -1.46105922e-05\n",
      " -8.95310441e-05  4.50944863e-05 -6.25525368e-04  6.39519249e-06\n",
      "  7.89007245e-05  4.38184470e-05 -6.29709393e-06 -3.31646792e-04\n",
      "  2.08036770e-04  8.58998508e-04 -7.10014365e-06 -2.31651647e-04\n",
      " -2.53663078e-04 -1.09771638e-04 -1.30033703e-04  5.45191760e-05\n",
      " -2.01744420e-04 -3.24238863e-05 -6.37024059e-04 -1.01194761e-04\n",
      " -3.22264212e-04 -4.65504301e-04 -5.29453391e-04 -7.13643851e-04\n",
      " -2.57615204e-04  1.56102251e-04  3.89854467e-05 -4.28757834e-04\n",
      "  1.95486951e-04 -9.65488216e-05  1.00716432e-04  2.82090696e-05\n",
      " -2.69945158e-04 -5.50184282e-04  5.39273955e-04 -2.09731865e-04\n",
      " -8.16501706e-05 -5.48470649e-04  8.17104010e-04 -1.06412052e-04\n",
      "  6.45799155e-04 -4.36033035e-04  7.22010518e-05 -1.91558778e-04]\n"
     ]
    }
   ],
   "source": [
    "from gensim.models import FastText\n",
    "\n",
    "# Пример корпуса текста\n",
    "corpus = [\n",
    "    [\"jammingbot\", \"is\", \"a\", \"self-replicating\", \"bot\", \"exploring\", \"the\", \"internet\"],\n",
    "    [\"the\", \"jammingbot\", \"reflects\", \"on\", \"humanity\", \"and\", \"its\", \"mood\"]\n",
    "]\n",
    "\n",
    "# Обучаем модель FastText\n",
    "ft_model = FastText(sentences=corpus, vector_size=300, window=5, min_count=1, workers=4)\n",
    "\n",
    "# Получаем эмбеддинг для слова \"jammingbot\"\n",
    "embedding = ft_model.wv[\"jammingbot\"]\n",
    "print(f\"Эмбеддинг для 'jammingbot': {embedding}\")\n"
   ]
  },
  {
   "cell_type": "code",
   "execution_count": 4,
   "metadata": {},
   "outputs": [
    {
     "name": "stdout",
     "output_type": "stream",
     "text": [
      "Эмбеддинг для 'jammingbot': [ 3.14384350e-04 -5.55101549e-04 -1.46238992e-04 -9.79694669e-05\n",
      " -6.46486646e-04  4.41743468e-04 -9.42527040e-05  2.65375857e-04\n",
      " -2.10784565e-04  3.75456034e-06  4.05715458e-04 -3.65126762e-05\n",
      " -8.13494917e-05 -1.59025367e-05  3.34162120e-04  3.97624972e-04\n",
      " -1.96472232e-04  1.31785069e-04  7.26863218e-05  2.18483615e-06\n",
      "  4.04856110e-05 -9.62478342e-04  3.05933994e-04 -6.30852228e-05\n",
      "  8.42203226e-05  6.60132355e-05  1.69353618e-04 -1.37861047e-04\n",
      "  1.16054180e-04  3.51079179e-05  2.95635720e-04  2.26257951e-04\n",
      " -6.35497447e-04 -3.68834852e-04  1.09647946e-04  4.53648187e-04\n",
      " -2.56602565e-04 -2.50492740e-04 -3.43307358e-04 -3.34997836e-04\n",
      "  3.47490350e-05  4.25369333e-04  4.47593105e-04 -5.44268347e-04\n",
      "  5.26646385e-04 -8.42195950e-05 -1.78128121e-05 -2.67417316e-04\n",
      "  2.56143947e-04 -5.57512452e-04  2.25525582e-04  5.96229977e-04\n",
      " -1.66568279e-04  3.27080576e-04  9.78874050e-06  1.56508439e-04\n",
      " -2.53842718e-05  9.57888915e-05 -5.58291431e-05  1.35331255e-04\n",
      "  1.03172046e-04  4.81364259e-05  1.73658846e-04 -1.53304805e-04\n",
      " -2.12053492e-04 -7.22449522e-06 -3.75164091e-05 -3.72437906e-04\n",
      "  1.12982212e-04 -7.48994644e-05  2.52372905e-04 -6.00369181e-04\n",
      " -2.46079930e-04 -7.27822335e-05 -2.36006555e-04  1.29400825e-04\n",
      " -1.71727239e-04  5.36456413e-04  3.50524671e-04 -3.42238229e-04\n",
      "  2.77646235e-04 -5.18867571e-04  8.72315359e-05  8.04673531e-04\n",
      "  1.44529578e-04  5.82833236e-05  2.79149739e-04  4.59408970e-04\n",
      "  2.28005592e-04  2.87060073e-04 -6.73649542e-04 -2.61595007e-04\n",
      " -8.10886777e-05  1.03716440e-04  4.64342214e-04  1.62234137e-04\n",
      "  1.93224289e-04  6.00357125e-05  9.78055687e-05  1.99148235e-05\n",
      "  5.74762991e-04 -3.08135059e-04 -3.70209862e-04  4.45443671e-04\n",
      " -1.91464336e-04  1.41030847e-04  1.82871721e-04  8.38723790e-05\n",
      " -7.01000463e-05  1.36179427e-04 -1.23866703e-04 -4.31955086e-05\n",
      " -3.55812866e-04  2.33571598e-04 -3.36704397e-04 -1.04765073e-04\n",
      " -1.00419595e-04  2.57227832e-04  3.06236943e-05 -1.10100860e-04\n",
      "  3.39410064e-04 -3.59927304e-04 -3.84079503e-05  5.96473867e-04\n",
      "  1.16302617e-04  4.51304550e-05  3.49694048e-04 -2.88031413e-04\n",
      " -3.74528783e-04 -4.73496155e-04 -3.52299365e-04  2.81181710e-04\n",
      "  1.76823562e-06 -1.08272128e-04 -1.57159753e-04 -6.64420135e-04\n",
      " -2.77862302e-04 -4.37512121e-04  2.09653037e-04 -1.96739566e-05\n",
      "  1.26576979e-05 -1.62657569e-04 -3.88015236e-04  2.33973169e-05\n",
      " -2.17528373e-04 -9.98262898e-04 -2.55578954e-04  2.05544362e-04\n",
      "  4.03959275e-04 -6.39298873e-04  1.19819524e-05  4.26307924e-05\n",
      " -8.53548481e-05 -3.95505740e-05  1.13970949e-04  1.01661804e-04\n",
      " -4.82638774e-04  3.69258960e-05  3.00609041e-04 -3.10217292e-04\n",
      "  7.89234240e-04  1.35986347e-05 -7.69215985e-05  3.12323915e-04\n",
      " -2.21989496e-04  5.25512500e-04  2.31216283e-04 -1.66522717e-04\n",
      "  4.97736852e-04 -8.94114564e-05  3.98002652e-04 -6.77559059e-04\n",
      "  1.68674960e-04  5.41793706e-04  5.31597543e-05  4.06475010e-05\n",
      " -5.76557417e-04  3.48432863e-04 -1.10312030e-05  4.40742966e-04\n",
      " -2.73523125e-04 -4.38970805e-04  4.64638550e-04 -2.24633521e-04\n",
      "  4.38860705e-04  3.55257362e-04 -1.05070365e-04 -1.43088226e-04\n",
      " -7.61095376e-04  1.32744579e-04 -2.19012261e-04 -4.04989725e-04\n",
      " -1.29826352e-04 -5.61868510e-05 -2.50655372e-04 -1.73832668e-04\n",
      " -5.81903732e-04 -2.66745250e-04 -2.24777730e-04  4.68772283e-04\n",
      "  3.25782050e-04  2.89943244e-04  4.43762510e-05 -9.99268013e-05\n",
      " -5.36466405e-06 -4.66498401e-04  1.00053760e-04  2.81017739e-04\n",
      "  2.31569575e-05  1.12562935e-04  1.06083331e-04  1.26354746e-04\n",
      " -2.48697674e-04  2.75543745e-04  1.84234537e-04 -5.18417917e-04\n",
      " -2.15924360e-04 -3.76184005e-04  1.62770986e-04  3.02774424e-04\n",
      " -3.12572753e-04  4.80864837e-04  6.51610681e-05  3.82133207e-04\n",
      "  8.99775041e-05  4.50090534e-04 -3.30521252e-05  8.19617781e-05\n",
      " -3.78132652e-04  3.02700209e-04  2.53720005e-04 -3.95111158e-04\n",
      "  3.62359948e-04  8.64940812e-05 -7.23046178e-05  2.41378613e-04\n",
      "  6.09904760e-04 -1.54076351e-05  7.57400558e-05 -8.20291461e-05\n",
      "  3.88687273e-04 -2.38844194e-04  1.48287902e-04  1.73007094e-04\n",
      "  7.82431598e-05  2.79067928e-04 -9.10166273e-06  3.34785669e-04\n",
      " -6.26713290e-06 -3.42785730e-04 -4.45436803e-04  8.04682932e-05\n",
      "  4.95585628e-05  2.31110840e-04 -3.30395473e-04 -1.46105922e-05\n",
      " -8.95310441e-05  4.50944863e-05 -6.25525368e-04  6.39519249e-06\n",
      "  7.89007245e-05  4.38184470e-05 -6.29709393e-06 -3.31646792e-04\n",
      "  2.08036770e-04  8.58998508e-04 -7.10014365e-06 -2.31651647e-04\n",
      " -2.53663078e-04 -1.09771638e-04 -1.30033703e-04  5.45191760e-05\n",
      " -2.01744420e-04 -3.24238863e-05 -6.37024059e-04 -1.01194761e-04\n",
      " -3.22264212e-04 -4.65504301e-04 -5.29453391e-04 -7.13643851e-04\n",
      " -2.57615204e-04  1.56102251e-04  3.89854467e-05 -4.28757834e-04\n",
      "  1.95486951e-04 -9.65488216e-05  1.00716432e-04  2.82090696e-05\n",
      " -2.69945158e-04 -5.50184282e-04  5.39273955e-04 -2.09731865e-04\n",
      " -8.16501706e-05 -5.48470649e-04  8.17104010e-04 -1.06412052e-04\n",
      "  6.45799155e-04 -4.36033035e-04  7.22010518e-05 -1.91558778e-04]\n"
     ]
    }
   ],
   "source": [
    "from gensim.models import FastText\n",
    "\n",
    "# Пример корпуса текста\n",
    "corpus = [\n",
    "    [\"jammingbot\", \"is\", \"a\", \"self-replicating\", \"bot\", \"exploring\", \"the\", \"internet\"],\n",
    "    [\"the\", \"jammingbot\", \"reflects\", \"on\", \"humanity\", \"and\", \"its\", \"mood\"]\n",
    "]\n",
    "\n",
    "# Обучаем модель FastText\n",
    "ft_model = FastText(sentences=corpus, vector_size=300, window=5, min_count=1, workers=4)\n",
    "\n",
    "# Проверяем, есть ли слово \"jammingbot\" в словаре\n",
    "if \"jammingbot\" in ft_model.wv:\n",
    "    embedding = ft_model.wv[\"jammingbot\"]  # Используйте `wv` для доступа к словарю\n",
    "    print(f\"Эмбеддинг для 'jammingbot': {embedding}\")\n",
    "else:\n",
    "    print(\"Слово 'jammingbot' отсутствует в словаре модели.\")\n",
    "\n",
    "\n"
   ]
  },
  {
   "cell_type": "code",
   "execution_count": 5,
   "metadata": {},
   "outputs": [
    {
     "name": "stdout",
     "output_type": "stream",
     "text": [
      "Похожие слова для 'jammingbot':\n",
      "bot: 0.15\n",
      "humanity: 0.09\n",
      "its: 0.03\n",
      "internet: 0.01\n",
      "exploring: 0.00\n"
     ]
    }
   ],
   "source": [
    "# Получаем список похожих слов для \"jammingbot\"\n",
    "similar_words = ft_model.wv.most_similar(\"jammingbot\", topn=5)\n",
    "print(\"Похожие слова для 'jammingbot':\")\n",
    "for word, similarity in similar_words:\n",
    "    print(f\"{word}: {similarity:.2f}\")\n"
   ]
  },
  {
   "cell_type": "code",
   "execution_count": 6,
   "metadata": {},
   "outputs": [
    {
     "name": "stdout",
     "output_type": "stream",
     "text": [
      "Сходство между 'jammingbot' и 'bot': 0.15\n"
     ]
    }
   ],
   "source": [
    "# Проверяем сходство между словами\n",
    "similarity = ft_model.wv.similarity(\"jammingbot\", \"bot\")\n",
    "print(f\"Сходство между 'jammingbot' и 'bot': {similarity:.2f}\")\n"
   ]
  }
 ],
 "metadata": {
  "kernelspec": {
   "display_name": "ml",
   "language": "python",
   "name": "python3"
  },
  "language_info": {
   "codemirror_mode": {
    "name": "ipython",
    "version": 3
   },
   "file_extension": ".py",
   "mimetype": "text/x-python",
   "name": "python",
   "nbconvert_exporter": "python",
   "pygments_lexer": "ipython3",
   "version": "3.11.1"
  }
 },
 "nbformat": 4,
 "nbformat_minor": 2
}
