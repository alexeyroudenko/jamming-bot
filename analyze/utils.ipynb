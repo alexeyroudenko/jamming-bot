{
 "cells": [
  {
   "cell_type": "code",
   "execution_count": null,
   "metadata": {},
   "outputs": [],
   "source": [
    "import glob\n",
    "files = glob.glob(\"../data/path/steps/*\")\n",
    "files_txt = glob.glob(\"../data/path/txt/*\")\n",
    "print(len(files))\n",
    "print(len(files_txt))"
   ]
  },
  {
   "cell_type": "markdown",
   "metadata": {},
   "source": [
    "## Archive"
   ]
  },
  {
   "cell_type": "code",
   "execution_count": 37,
   "metadata": {},
   "outputs": [],
   "source": [
    "import os\n",
    "import tarfile\n",
    "\n",
    "FILE_LIMIT = 10000\n",
    "ARCHIVE_DIR = \"../data/path/archive/\"\n",
    "COUNT = 10\n",
    "def archive_path():\n",
    "   \n",
    "    for i in range(10, 14):\n",
    "        \n",
    "        files_txt = []\n",
    "        files_steps = []\n",
    "    \n",
    "        for j in range(0, FILE_LIMIT):\n",
    "            filenumber = (i-1) * FILE_LIMIT + j\n",
    "            txt_filename = f\"../data/path/txt/{filenumber:08d}.txt\"\n",
    "            # print(txt_filename)\n",
    "            if os.path.isfile(txt_filename):\n",
    "                files_txt.append(txt_filename)          \n",
    "            step_filename = f\"../data/path/steps/{filenumber:08d}.info\"\n",
    "            if os.path.isfile(step_filename):\n",
    "                files_steps.append(step_filename)    \n",
    "        \n",
    "        archive_num = i * FILE_LIMIT\n",
    "        archive_steps_name = os.path.join(ARCHIVE_DIR, f\"steps_{archive_num:03d}.tar.gz\")            \n",
    "        with tarfile.open(archive_steps_name, \"w:gz\") as tar:\n",
    "            for file in files_steps:\n",
    "                tar.add(file, arcname=file)\n",
    "                os.remove(file)\n",
    "                \n",
    "        print(f\"done {archive_steps_name} i/{COUNT}\")\n",
    "\n",
    "        archive_txt_name = os.path.join(ARCHIVE_DIR, f\"txt_{archive_num:03d}.tar.gz\")                \n",
    "        with tarfile.open(archive_txt_name, \"w:gz\") as tar:\n",
    "            for file in files_txt:\n",
    "                tar.add(file, arcname=file)\n",
    "                os.remove(file)\n",
    "\n",
    "        print(f\"done {archive_txt_name} i/{COUNT}\")\n",
    "        \n",
    "archive_path()"
   ]
  }
 ],
 "metadata": {
  "kernelspec": {
   "display_name": "Python 3",
   "language": "python",
   "name": "python3"
  },
  "language_info": {
   "codemirror_mode": {
    "name": "ipython",
    "version": 3
   },
   "file_extension": ".py",
   "mimetype": "text/x-python",
   "name": "python",
   "nbconvert_exporter": "python",
   "pygments_lexer": "ipython3",
   "version": "3.11.1"
  }
 },
 "nbformat": 4,
 "nbformat_minor": 2
}
