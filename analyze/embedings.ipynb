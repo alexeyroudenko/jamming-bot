{
 "cells": [
  {
   "cell_type": "code",
   "execution_count": null,
   "metadata": {},
   "outputs": [],
   "source": [
    "import pandas as pd\n",
    "dataset_path = '../data/path/dataset.csv'\n",
    "df = pd.read_csv(dataset_path, on_bad_lines='skip')\n",
    "df.head()"
   ]
  },
  {
   "cell_type": "code",
   "execution_count": 20,
   "metadata": {},
   "outputs": [
    {
     "name": "stdout",
     "output_type": "stream",
     "text": [
      "112924\n"
     ]
    }
   ],
   "source": [
    "import spacy\n",
    "nlp = spacy.load(\"en_core_web_lg\")\n",
    "\n",
    "sim = []\n",
    "for idx in df.index:\n",
    "    step = df.loc[idx, 'id']\n",
    "    text = df.loc[idx, 'text']\n",
    "    doc = nlp(text)                                                        \n",
    "    query_text = \"mood\"                \n",
    "    query = nlp(query_text)\n",
    "    for token in doc:\n",
    "        if token.has_vector and query.has_vector:\n",
    "            similarity = query.similarity(token)\n",
    "            if similarity > 0.35:\n",
    "                # print(f\"step: {step} added token.text {token.text}: {similarity:.2f}\")\n",
    "                sim.append(token.text)\n",
    "    # if step > 10000:\n",
    "        # break\n",
    "print(len(sim))"
   ]
  },
  {
   "cell_type": "code",
   "execution_count": 21,
   "metadata": {},
   "outputs": [
    {
     "name": "stdout",
     "output_type": "stream",
     "text": [
      "112924\n"
     ]
    }
   ],
   "source": [
    "print(len(sim))\n",
    "words = sim\n",
    "\n",
    "import spacy\n",
    "import numpy as np\n",
    "from sklearn.decomposition import PCA\n",
    "\n",
    "# Calculate embeddings for each word\n",
    "embeddings = np.array([nlp(word).vector for word in words])\n",
    "\n",
    "# Use PCA to reduce the dimensions to 3\n",
    "pca = PCA(n_components=3)\n",
    "reduced_embeddings = pca.fit_transform(embeddings)\n",
    "  \n",
    "with open('../data/words.txt', 'w') as f:\n",
    "    for word in words:\n",
    "        f.write(f\"{word}\\n\")\n",
    "        \n",
    "# Write the reduced embeddings to a .pts file\n",
    "with open('../data/words.pts', 'w') as f:\n",
    "    for embedding in reduced_embeddings:\n",
    "        f.write(f\"{embedding[0]} {embedding[1]} {embedding[2]}\\n\")   \n"
   ]
  }
 ],
 "metadata": {
  "kernelspec": {
   "display_name": "Python 3",
   "language": "python",
   "name": "python3"
  },
  "language_info": {
   "codemirror_mode": {
    "name": "ipython",
    "version": 3
   },
   "file_extension": ".py",
   "mimetype": "text/x-python",
   "name": "python",
   "nbconvert_exporter": "python",
   "pygments_lexer": "ipython3",
   "version": "3.9.21"
  }
 },
 "nbformat": 4,
 "nbformat_minor": 2
}
