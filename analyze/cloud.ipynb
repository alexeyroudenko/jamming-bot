{
 "cells": [
  {
   "cell_type": "code",
   "execution_count": null,
   "metadata": {},
   "outputs": [],
   "source": [
    "def log_progress(sequence, every=10):\n",
    "    from ipywidgets import IntProgress\n",
    "    from IPython.display import display\n",
    "\n",
    "    progress = IntProgress(min=0, max=len(sequence), value=0)\n",
    "    display(progress)\n",
    "    \n",
    "    for index, record in enumerate(sequence):\n",
    "        if index % every == 0:\n",
    "            progress.value = index\n",
    "        yield record"
   ]
  },
  {
   "cell_type": "code",
   "execution_count": null,
   "metadata": {},
   "outputs": [],
   "source": [
    "import requests    \n",
    "def delete_tags(): \n",
    "    url = \"http://localhost:8003/api/v1/tags/\"\n",
    "    r = requests.get(url)\n",
    "    for t in log_progress(r.json()):\n",
    "        idd = t['id']\n",
    "        urld = f\"http://localhost:8003/api/v1/tags/{idd}/\"\n",
    "        r = requests.delete(urld)     \n",
    "delete_tags()"
   ]
  },
  {
   "cell_type": "code",
   "execution_count": null,
   "metadata": {},
   "outputs": [],
   "source": [
    "import pandas as pd\n",
    "dataset_path = '../data/path/dataset.csv'\n",
    "df = pd.read_csv(dataset_path, on_bad_lines='skip')\n",
    "df.head()"
   ]
  },
  {
   "cell_type": "code",
   "execution_count": null,
   "metadata": {},
   "outputs": [],
   "source": [
    "import spacy\n",
    "nlp = spacy.load(\"en_core_web_lg\")\n",
    "\n",
    "# query_text = \"happiness love life\"\n",
    "query_text = \"mood\"\n",
    "min_similarity = 0.35\n",
    "\n",
    "\n",
    "sim = []\n",
    "for idx in df.index:\n",
    "    step = df.loc[idx, 'id']\n",
    "    text = df.loc[idx, 'text']\n",
    "    doc = nlp(text)\n",
    "    query = nlp(query_text)\n",
    "    for token in doc:\n",
    "        if token.has_vector and query.has_vector:\n",
    "            similarity = query.similarity(token)\n",
    "            if similarity > min_similarity:\n",
    "                # print(f\"step: {step} added token.text {token.text}: {similarity:.2f}\")\n",
    "                sim.append(token.text.lower())\n",
    "    if step > 2000:\n",
    "        break\n",
    "    \n",
    "print(f\"words: len(sim)\")\n",
    "# print(sim)"
   ]
  },
  {
   "cell_type": "code",
   "execution_count": null,
   "metadata": {},
   "outputs": [],
   "source": [
    "import json\n",
    "import requests\n",
    "words = sim\n",
    "\n",
    "for word in log_progress(sim, every=1):                \n",
    "    url = \"http://localhost:8003/api/v1/tags/\"\n",
    "    headers = {'content-type': 'application/json'}\n",
    "    data = {'name': word, \"count\": 0}\n",
    "    response = requests.post(url, data=json.dumps(data), headers=headers)\n",
    "    # print(f\"word: {word} added\")\n",
    "\n",
    "words = list(set(sim))\n",
    "print(words[0:32])"
   ]
  },
  {
   "cell_type": "code",
   "execution_count": null,
   "metadata": {},
   "outputs": [],
   "source": [
    "print(len(sim))\n",
    "words = list(set(sim))\n",
    "\n",
    "import spacy\n",
    "import numpy as np\n",
    "from sklearn.decomposition import PCA\n",
    "\n",
    "# Calculate embeddings for each word\n",
    "embeddings = np.array([nlp(word).vector for word in words])\n",
    "\n",
    "# Use PCA to reduce the dimensions to 3\n",
    "pca = PCA(n_components=3)\n",
    "reduced_embeddings = pca.fit_transform(embeddings)\n",
    "  \n",
    "with open('../data/words.txt', 'w') as f:\n",
    "    for word in words:\n",
    "        f.write(f\"{word}\\n\")\n",
    " \n",
    "means = \"\"\n",
    "with open('../data/means.txt', 'w') as f:\n",
    "    for word in words:\n",
    "        f.write(f\"{word} \")\n",
    "        means = means + f\"{word} \"\n",
    "               \n",
    "# Write the reduced embeddings to a .pts file\n",
    "with open('../data/words.pts', 'w') as f:\n",
    "    for embedding in reduced_embeddings:\n",
    "        f.write(f\"{embedding[0]} {embedding[1]} {embedding[2]}\\n\")   \n"
   ]
  },
  {
   "cell_type": "code",
   "execution_count": null,
   "metadata": {},
   "outputs": [],
   "source": [
    "import spacy\n",
    "nlp_lg = spacy.load(\"en_core_web_lg\")\n",
    "\n",
    "def get_hrases(text):\n",
    "    hrases = []\n",
    "    # Analyze noun hrases\n",
    "    doc = nlp_lg(means)\n",
    "    noun_hrases =  [chunk.text for chunk in doc.noun_chunks]\n",
    "    for i in noun_hrases[0:64]:\n",
    "        hrases.append(i)\n",
    "    return hrases\n",
    "\n",
    "hrases = get_hrases(means)\n",
    "print(\", \".join(hrases))"
   ]
  }
 ],
 "metadata": {
  "kernelspec": {
   "display_name": "Python 3",
   "language": "python",
   "name": "python3"
  },
  "language_info": {
   "codemirror_mode": {
    "name": "ipython",
    "version": 3
   },
   "file_extension": ".py",
   "mimetype": "text/x-python",
   "name": "python",
   "nbconvert_exporter": "python",
   "pygments_lexer": "ipython3",
   "version": "3.9.21"
  }
 },
 "nbformat": 4,
 "nbformat_minor": 2
}
