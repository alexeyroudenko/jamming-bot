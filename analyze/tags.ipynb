{
 "cells": [
  {
   "cell_type": "markdown",
   "metadata": {},
   "source": [
    "## Test"
   ]
  },
  {
   "cell_type": "code",
   "execution_count": null,
   "metadata": {},
   "outputs": [],
   "source": [
    "def check_apt_tags_add():\n",
    "    import json\n",
    "    import requests\n",
    "    url = \"http://localhost:5000/api/tags/add/\"\n",
    "    headers = {'content-type': 'application/json'}\n",
    "    tags = ['sender', 'he1', 'receiver', 'he2', 'message', 'We did it!']\n",
    "    response = requests.post(url, json=json.dumps(tags), headers=headers)\n",
    "\n",
    "    print(response.content)"
   ]
  },
  {
   "cell_type": "markdown",
   "metadata": {},
   "source": [
    "## Progress bar"
   ]
  },
  {
   "cell_type": "code",
   "execution_count": null,
   "metadata": {},
   "outputs": [],
   "source": [
    "def log_progress(sequence, every=10):\n",
    "    from ipywidgets import IntProgress\n",
    "    from IPython.display import display\n",
    "\n",
    "    progress = IntProgress(min=0, max=len(sequence), value=0)\n",
    "    display(progress)\n",
    "    \n",
    "    for index, record in enumerate(sequence):\n",
    "        if index % every == 0:\n",
    "            progress.value = index\n",
    "        yield record"
   ]
  },
  {
   "cell_type": "markdown",
   "metadata": {},
   "source": [
    "# Clean tags"
   ]
  },
  {
   "cell_type": "code",
   "execution_count": null,
   "metadata": {},
   "outputs": [],
   "source": [
    "import requests    \n",
    "def delete_tags(): \n",
    "    url = \"http://localhost:8003/api/v1/tags/\"\n",
    "    r = requests.get(url)\n",
    "    for t in log_progress(r.json()):\n",
    "        idd = t['id']\n",
    "        urld = f\"http://localhost:8003/api/v1/tags/{idd}/\"\n",
    "        r = requests.delete(urld)     \n",
    "delete_tags()"
   ]
  },
  {
   "cell_type": "markdown",
   "metadata": {},
   "source": [
    "## Add tags from steps"
   ]
  },
  {
   "cell_type": "code",
   "execution_count": null,
   "metadata": {},
   "outputs": [],
   "source": [
    "import json\n",
    "import requests\n",
    "import glob\n",
    "files = glob.glob(\"../data/path/steps/*\") #[0:100]\n",
    "files_txt = glob.glob(\"../data/path/txt/*\") #[0:100]\n",
    "\n",
    "for file in log_progress(files, every=1):        \n",
    "    contents = open(file).readlines()\n",
    "    step = int(contents[0].strip())    \n",
    "    # print(file, step)   \n",
    "    text_path = files_txt[step]     \n",
    "    text = open(files_txt[step-1]).read().strip().replace(\"\\n\",\"\")\n",
    "    \n",
    "    url_semantic = \"http://localhost:8005/api/v1/semantic/tags/\"\n",
    "    headers = {'content-type': 'application/json'}\n",
    "    rr = requests.post(url_semantic, data = json.dumps({\"text\": text}), headers=headers)                \n",
    "    data = rr.json()\n",
    "    # if \"words\" in data.keys(): \n",
    "    #     words = rr.json()['words']\n",
    "    # if \"hrases\" in data.keys(): \n",
    "    #     hrases = rr.json()['hrases']\n",
    "    if \"sim\" in data.keys(): \n",
    "        sim = rr.json()['sim']\n",
    "    # print(words, hrases, sim)\n",
    "    \n",
    "    for hras in sim:       \n",
    "        url = \"http://localhost:8003/api/v1/tags/\"\n",
    "        headers = {'content-type': 'application/json'}\n",
    "        data = {'name': hras, \"count\": 0}\n",
    "        response = requests.post(url, data=json.dumps(data), headers=headers)\n",
    "    \n",
    "    # if step > 100:\n",
    "        # break"
   ]
  }
 ],
 "metadata": {
  "kernelspec": {
   "display_name": "Python 3",
   "language": "python",
   "name": "python3"
  },
  "language_info": {
   "codemirror_mode": {
    "name": "ipython",
    "version": 3
   },
   "file_extension": ".py",
   "mimetype": "text/x-python",
   "name": "python",
   "nbconvert_exporter": "python",
   "pygments_lexer": "ipython3",
   "version": "3.10.14"
  }
 },
 "nbformat": 4,
 "nbformat_minor": 2
}
