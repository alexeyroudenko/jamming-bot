{
 "cells": [
  {
   "cell_type": "code",
   "execution_count": null,
   "metadata": {},
   "outputs": [],
   "source": [
    "import json\n",
    "import requests\n",
    "import glob\n",
    "files = glob.glob(\"../data/path/steps/*\")\n",
    "files_txt = glob.glob(\"../data/path/txt/*\")\n",
    "files_html = glob.glob(\"../data/path/html/*\")\n",
    "ip = \"\"\n",
    "\n",
    "do_geo = False\n",
    "do_words = False\n",
    "do_tags = False\n",
    "\n",
    "do_geo = True\n",
    "do_words = True\n",
    "do_tags = True\n",
    "\n",
    "# delete_tags()\n",
    "# import spacy\n",
    "# nlp_lg = spacy.load(\"en_core_web_lg\")\n",
    "# nlp_qu = spacy.load(\"en_core_web_lg\")\n",
    "\n",
    "with open(f'../data/path/collect.tsv', 'w') as out_file:\n",
    "\n",
    "    latitude = \"0\"\n",
    "    longitude = \"0\"\n",
    "    city = \"\"\n",
    "                    \n",
    "    for file in files:\n",
    "        contents = open(file).readlines()\n",
    "        step = int(contents[0].strip())        \n",
    "        \n",
    "        code = contents[3].strip()\n",
    "        if code == \"200\":\n",
    "            ip = contents[4].strip()\n",
    "                         \n",
    "            url = f\"http://localhost:8004/api/v1/ip/{ip}/\"\n",
    "            r = requests.get(url)\n",
    "            latitude = str(r.json()['latitude'])\n",
    "            longitude = str(r.json()['longitude'])\n",
    "            city = r.json()['city']\n",
    "            \n",
    "            import random                \n",
    "            out = [str(step), ip, str(latitude), str(longitude), str(random.uniform(0.2, 0.9)), city] #text\n",
    "            out_file.write('\\t'.join(out)+\"\\n\")\n",
    "            \n",
    "            print(out)        \n",
    "     \n",
    "        # if step > 100:\n",
    "            # break\n",
    "    "
   ]
  }
 ],
 "metadata": {
  "kernelspec": {
   "display_name": "Python 3",
   "language": "python",
   "name": "python3"
  },
  "language_info": {
   "codemirror_mode": {
    "name": "ipython",
    "version": 3
   },
   "file_extension": ".py",
   "mimetype": "text/x-python",
   "name": "python",
   "nbconvert_exporter": "python",
   "pygments_lexer": "ipython3",
   "version": "3.10.14"
  }
 },
 "nbformat": 4,
 "nbformat_minor": 2
}
