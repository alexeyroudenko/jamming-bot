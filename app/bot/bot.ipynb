{
 "cells": [
  {
   "cell_type": "code",
   "execution_count": null,
   "metadata": {},
   "outputs": [
    {
     "name": "stdout",
     "output_type": "stream",
     "text": [
      "{'number': 1, 'url': '', 'src': '', 'ip': '', 'status_code': 0, 'headers': '', 'text': '', 'html': ''}\n"
     ]
    }
   ],
   "source": [
    "class Step():\n",
    "    def __init__(self, step_number):\n",
    "        self.number: int = step_number\n",
    "        self.url: str = \"\"\n",
    "        self.src: str = \"\"\n",
    "        self.ip: str = \"\"\n",
    "        self.status_code: int = 0\n",
    "        self.headers: str = \"\"\n",
    "        self.text: str = \"\"\n",
    "        self.html: str = \"\"\n",
    "    \n",
    "    def to_data(self):\n",
    "        return vars(self)\n",
    "    \n",
    "step = Step(1)\n",
    "print(step.to_data())"
   ]
  }
 ],
 "metadata": {
  "kernelspec": {
   "display_name": "Python 3",
   "language": "python",
   "name": "python3"
  },
  "language_info": {
   "codemirror_mode": {
    "name": "ipython",
    "version": 3
   },
   "file_extension": ".py",
   "mimetype": "text/x-python",
   "name": "python",
   "nbconvert_exporter": "python",
   "pygments_lexer": "ipython3",
   "version": "3.10.14"
  }
 },
 "nbformat": 4,
 "nbformat_minor": 2
}
